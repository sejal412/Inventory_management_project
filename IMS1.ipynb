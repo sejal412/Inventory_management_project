{
  "nbformat": 4,
  "nbformat_minor": 0,
  "metadata": {
    "colab": {
      "name": "IMS1.ipynb",
      "provenance": [],
      "collapsed_sections": []
    },
    "kernelspec": {
      "name": "python3",
      "display_name": "Python 3"
    },
    "language_info": {
      "name": "python"
    }
  },
  "cells": [
    {
      "cell_type": "markdown",
      "metadata": {
        "id": "4Q1EAXd7am4u"
      },
      "source": [
        "1)json file"
      ]
    },
    {
      "cell_type": "code",
      "metadata": {
        "id": "62Gnn_H_bU_q"
      },
      "source": [
        "import json"
      ],
      "execution_count": 1,
      "outputs": []
    },
    {
      "cell_type": "code",
      "metadata": {
        "id": "889s3k8mbYln"
      },
      "source": [
        "fd=open(\"records.json\",\"r\")\n",
        "records=fd.read()\n",
        "fd.close()\n",
        "js=json.loads(records)"
      ],
      "execution_count": 2,
      "outputs": []
    },
    {
      "cell_type": "code",
      "metadata": {
        "colab": {
          "base_uri": "https://localhost:8080/"
        },
        "id": "oa2HPLLZg3hc",
        "outputId": "1791e5e2-9558-49de-d2d8-162970a99a4e"
      },
      "source": [
        "js"
      ],
      "execution_count": 3,
      "outputs": [
        {
          "output_type": "execute_result",
          "data": {
            "text/plain": [
              "{'10001': {'catagory': 'soft-drink',\n",
              "  'mfg_date': '4Sept,2021',\n",
              "  'name': 'Coca Cola',\n",
              "  'price': 65,\n",
              "  'quantity': 100,\n",
              "  'size': '1.25L',\n",
              "  'specifications': '-'},\n",
              " '10002': {'catagory': 'soft-drink',\n",
              "  'mfg_date': '1Sept,2021',\n",
              "  'name': 'Coca Cola(Big size)',\n",
              "  'price': 89,\n",
              "  'quantity': 100,\n",
              "  'size': '2.25L',\n",
              "  'specifications': '-'},\n",
              " '10003': {'catagory': 'drink',\n",
              "  'mfg_date': '5Sept,2021',\n",
              "  'name': 'Maza Mango Drink',\n",
              "  'price': 46,\n",
              "  'quantity': 97,\n",
              "  'size': '1.2L',\n",
              "  'specifications': '-'},\n",
              " '10004': {'catagory': 'ice-cream family pack',\n",
              "  'mfg_date': '5Sept,2021',\n",
              "  'name': 'Cadbury Chocolate Choc Layered Cakes',\n",
              "  'price': 60,\n",
              "  'quantity': 100,\n",
              "  'size': '126gram',\n",
              "  'specifications': '-'},\n",
              " '10005': {'catagory': 'chocolate-bar',\n",
              "  'mfg_date': '5Sept,2021',\n",
              "  'name': 'Cadbury Dark Milk Chocolate Bar',\n",
              "  'price': 338,\n",
              "  'quantity': 100,\n",
              "  'size': '156gram',\n",
              "  'specifications': '-'},\n",
              " '10006': {'catagory': 'Chocolate',\n",
              "  'mfg_date': '5Sept,2021',\n",
              "  'name': 'Cadbury Dairy Milk Small',\n",
              "  'price': 40,\n",
              "  'quantity': 100,\n",
              "  'size': '54gram',\n",
              "  'specifications': '-'},\n",
              " '10007': {'catagory': 'chocolate-bar',\n",
              "  'mfg_date': '4Sept,2021',\n",
              "  'name': 'Cadbury Dairy Milk Silk Mousse Chocolate Bar',\n",
              "  'price': 78,\n",
              "  'quantity': 100,\n",
              "  'size': '50gram',\n",
              "  'specifications': '-'},\n",
              " '10008': {'catagory': 'food',\n",
              "  'mfg_date': '2Sept,2021',\n",
              "  'name': \"Kellogg's Chocos\",\n",
              "  'price': 445,\n",
              "  'quantity': 100,\n",
              "  'size': '1.2kg',\n",
              "  'specifications': '-'},\n",
              " '10009': {'catagory': 'Biscuit',\n",
              "  'mfg_date': '5Sept,2021',\n",
              "  'name': 'Sunfeast Dark Fantacy Choco Fills',\n",
              "  'price': 36,\n",
              "  'quantity': 100,\n",
              "  'size': '75gram',\n",
              "  'specifications': '-'},\n",
              " '10010': {'catagory': 'phone',\n",
              "  'mfg_date': '3feb,2021',\n",
              "  'name': 'Samsung Galaxy M31',\n",
              "  'price': 15999,\n",
              "  'quantity': 75,\n",
              "  'size': 'Screen size-6.4Inches',\n",
              "  'specifications': 'Ocean Blue,6GB RAM ,128GB Storage'},\n",
              " '10011': {'catagory': 'phone',\n",
              "  'mfg_date': '4mar,2021',\n",
              "  'name': 'Mi 11X Pro 5G',\n",
              "  'price': 49999,\n",
              "  'quantity': 60,\n",
              "  'size': 'Screen size-6.67Inches',\n",
              "  'specifications': 'Cosmic Black,8GB RAM ,256GB Storage'},\n",
              " '10012': {'catagory': 'phone',\n",
              "  'mfg_date': '13mar,2021',\n",
              "  'name': 'Realme Norzo 30',\n",
              "  'price': 16999,\n",
              "  'quantity': 55,\n",
              "  'size': 'Screen size-6.5Inches',\n",
              "  'specifications': 'Racing Silver,6GB RAM, 128GB Storage'},\n",
              " '10013': {'catagory': 'phone',\n",
              "  'mfg_date': '16feb,2021',\n",
              "  'name': 'Oppo A74 5G',\n",
              "  'price': 20999,\n",
              "  'quantity': 10,\n",
              "  'size': 'Screen size-6.5Inches',\n",
              "  'specifications': 'Fantastic Purple,6GB RAM,128GB Storage'},\n",
              " '10014': {'catagory': 'laptop',\n",
              "  'mfg_date': '4mar,2021',\n",
              "  'name': 'Lenovo IdeaPad Gaming 3 Intel Core i5 10th Gen Full HD IPS Gaming Laptop(Onyx Black)',\n",
              "  'price': 59990,\n",
              "  'quantity': 15,\n",
              "  'size': '2.2kg',\n",
              "  'specifications': '8GB/1TB HDD/Windows 10/NVIDIA GTX 1650 4GB GDDR6 Graphics'},\n",
              " '10015': {'catagory': 'laptop',\n",
              "  'mfg_date': '18feb,2021',\n",
              "  'name': 'HP Pavillon Gaming 10th Gen Intel Core i5 Processor 15.6Inch FHD Gaming Laptop(Shadow Black)',\n",
              "  'price': 67990,\n",
              "  'quantity': 10,\n",
              "  'size': '2.23kg',\n",
              "  'specifications': '8GB/512GB SSD+32GB Intel Optane/Windows 10/NVIDIA 1650Ti 4GB'},\n",
              " '10016': {'catagory': 'laptop',\n",
              "  'mfg_date': '3mar,2021',\n",
              "  'name': 'HP Elitebook UltraSlim Hybrid Laptop 820G1 Intel Core i5 - 4200u Processor',\n",
              "  'price': 89990,\n",
              "  'quantity': 10,\n",
              "  'size': '1.5kg',\n",
              "  'specifications': '8 GB Ram, 1TB Harddisk & 256 GB ssd, Windows 10 Pro, 12.5 Inches Notebook'},\n",
              " '10017': {'catagory': 'laptop',\n",
              "  'mfg_date': '16feb,2021',\n",
              "  'name': 'LG Gram Ultra-Light 11th Gen Core i5',\n",
              "  'price': 74490,\n",
              "  'quantity': 40,\n",
              "  'size': '999gram',\n",
              "  'specifications': '8 GB RAM, 512 GB SSD, Win-10, Iris Xe Graphics, 14-inches, Thunderbolt 4, USC -C x 2 (with Power)'},\n",
              " '10018': {'catagory': 'biscuit',\n",
              "  'mfg_date': '18jan,2021',\n",
              "  'name': 'Hide and Seek(Cafe Mocha)',\n",
              "  'price': 30,\n",
              "  'quantity': 145,\n",
              "  'size': '120gram',\n",
              "  'specifications': 'fresh'},\n",
              " '10019': {'catagory': 'biscuit',\n",
              "  'mfg_date': '20jan,2021',\n",
              "  'name': 'Britannia Treat Jim Jam',\n",
              "  'price': 35,\n",
              "  'quantity': 60,\n",
              "  'size': '150gram',\n",
              "  'specifications': 'fresh'},\n",
              " '10020': {'catagory': 'food',\n",
              "  'mfg_date': '15mar,2021',\n",
              "  'name': 'Bourn Vita',\n",
              "  'price': 290,\n",
              "  'quantity': 50,\n",
              "  'size': '750gram',\n",
              "  'specifications': '-'},\n",
              " '10021': {'catagory': 'nutritiion drink',\n",
              "  'mfg_date': '26Aug,2021',\n",
              "  'name': 'Horlicks',\n",
              "  'price': 739,\n",
              "  'quantity': 40,\n",
              "  'size': '2kg',\n",
              "  'specifications': 'healthy and nutritious drink'},\n",
              " '10022': {'catagory': 'food',\n",
              "  'mfg_date': '3Sept,2021',\n",
              "  'name': 'Maggi',\n",
              "  'price': 160,\n",
              "  'quantity': 50,\n",
              "  'size': '70gram',\n",
              "  'specifications': 'masala instant noodles'},\n",
              " '10023': {'catagory': 'food',\n",
              "  'mfg_date': '1Sept,2021',\n",
              "  'name': 'Sunfeast Yippee',\n",
              "  'price': 86,\n",
              "  'quantity': 40,\n",
              "  'size': '280gram',\n",
              "  'specifications': 'whole wheat/instant noodle'},\n",
              " '10024': {'catagory': 'mango-drink',\n",
              "  'mfg_date': '3Sept,2021',\n",
              "  'name': 'Frooti-mango drink',\n",
              "  'price': 60,\n",
              "  'quantity': 10,\n",
              "  'size': '300ml',\n",
              "  'specifications': '-'},\n",
              " '10025': {'catagory': 'food',\n",
              "  'mfg_date': '1Sept,2021',\n",
              "  'name': 'Kissan Jam',\n",
              "  'price': 250,\n",
              "  'quantity': 30,\n",
              "  'size': '1kg',\n",
              "  'specifications': 'mixed fruit jam'},\n",
              " '10026': {'catagory': 'food',\n",
              "  'mfg_date': '4Sept,2021',\n",
              "  'name': 'Kurkure snacks',\n",
              "  'price': 20,\n",
              "  'quantity': 100,\n",
              "  'size': '90gram',\n",
              "  'specifications': '-'},\n",
              " '10027': {'catagory': 'food',\n",
              "  'mfg_date': '5Sept,2021',\n",
              "  'name': 'Pop-corn',\n",
              "  'price': 198,\n",
              "  'quantity': 40,\n",
              "  'size': '450gram',\n",
              "  'specifications': 'pack of 3'},\n",
              " '10028': {'catagory': 'food',\n",
              "  'mfg_date': '5Sept,2021',\n",
              "  'name': 'Dried Strowberry',\n",
              "  'price': 230,\n",
              "  'quantity': 10,\n",
              "  'size': '200gram',\n",
              "  'specifications': '-'},\n",
              " '10029': {'catagory': 'stationary-notebook',\n",
              "  'mfg_date': '14jan,2021',\n",
              "  'name': 'Classmate Spiral Notebook',\n",
              "  'price': 240,\n",
              "  'quantity': 200,\n",
              "  'size': '-',\n",
              "  'specifications': 'Single line, Spiral Binding, 240mm x 180mm, 200 Pages, Pack of 4, Multicolor '},\n",
              " '10030': {'catagory': 'stationary-notebook',\n",
              "  'mfg_date': '1Aug,2021',\n",
              "  'name': 'Classmate Long Notebook ',\n",
              "  'price': 175,\n",
              "  'quantity': 100,\n",
              "  'size': '-',\n",
              "  'specifications': 'Soft Cover, 120 Pages, 272x167mm, Single Line'},\n",
              " '10031': {'cat': 'stationary-pencil',\n",
              "  'mfg_date': '1jan,2021',\n",
              "  'name': 'Nataraj Pencil',\n",
              "  'pr': 10,\n",
              "  'qn': 50,\n",
              "  'size': '10gram',\n",
              "  'specification': 'extra dark'},\n",
              " '10032': {'cat': 'electronics',\n",
              "  'mfg_date': '5jan,2021',\n",
              "  'name': 'Mike',\n",
              "  'pr': 599,\n",
              "  'quantity': 145,\n",
              "  'size': '-',\n",
              "  'specification': 'wireless'},\n",
              " '10033': {'cat': 'food',\n",
              "  'mfg_date': '1sept,2021',\n",
              "  'name': 'Kurkure Namkeen',\n",
              "  'pr': 20,\n",
              "  'qn': 10,\n",
              "  'size': '95gram',\n",
              "  'specification': 'masala munch'}}"
            ]
          },
          "metadata": {},
          "execution_count": 3
        }
      ]
    },
    {
      "cell_type": "code",
      "metadata": {
        "colab": {
          "base_uri": "https://localhost:8080/"
        },
        "id": "R9lBEtHxb-up",
        "outputId": "db4039be-63eb-4e9c-bbb6-460de808c662"
      },
      "source": [
        "type(js)"
      ],
      "execution_count": 14,
      "outputs": [
        {
          "output_type": "execute_result",
          "data": {
            "text/plain": [
              "dict"
            ]
          },
          "metadata": {},
          "execution_count": 14
        }
      ]
    },
    {
      "cell_type": "markdown",
      "metadata": {
        "id": "G3fobWlsczDD"
      },
      "source": [
        "2)Add new items in inventory:"
      ]
    },
    {
      "cell_type": "code",
      "metadata": {
        "colab": {
          "base_uri": "https://localhost:8080/"
        },
        "id": "tuybI32KckeJ",
        "outputId": "eb92d4e8-1d42-4cc3-b028-400e7a4fbce4"
      },
      "source": [
        "prod_id = str(input(\"Enter product id:\"))\n",
        "name = str(input(\"Enter name:\"))\n",
        "pr = int(input(\"Enter price:\"))\n",
        "qn = int(input(\"Enter quantity:\"))\n",
        "cat=str(input(\"Enter catagory of product\"))\n",
        "mfg_date=str(input(\"Enter manufacture date\"))\n",
        "size=input(\"Enter size:\")\n",
        "spec=str(input(\"Enter specification\"))"
      ],
      "execution_count": 13,
      "outputs": [
        {
          "name": "stdout",
          "output_type": "stream",
          "text": [
            "Enter product id:10035\n",
            "Enter name:Wireless Headphone\n",
            "Enter price:690\n",
            "Enter quantity:29\n",
            "Enter catagory of productelectronics\n",
            "Enter manufacture date15jan,2021\n",
            "Enter size:-\n",
            "Enter specificationblue,black\n"
          ]
        }
      ]
    },
    {
      "cell_type": "code",
      "metadata": {
        "id": "iYpHqyFoVQd-"
      },
      "source": [
        "js[prod_id]= {'name': name, 'pr': pr, 'qn': qn,'cat':cat,'mfg_date':mfg_date,'size':size,'specification':spec}"
      ],
      "execution_count": 15,
      "outputs": []
    },
    {
      "cell_type": "code",
      "metadata": {
        "id": "6OLcNJNhnwzb"
      },
      "source": [
        "save=js[prod_id]"
      ],
      "execution_count": 16,
      "outputs": []
    },
    {
      "cell_type": "code",
      "metadata": {
        "colab": {
          "base_uri": "https://localhost:8080/"
        },
        "id": "7B27yP3KqB7Q",
        "outputId": "dce6b3d3-8d42-4218-ea53-7f5c8b9013a9"
      },
      "source": [
        "save"
      ],
      "execution_count": 17,
      "outputs": [
        {
          "output_type": "execute_result",
          "data": {
            "text/plain": [
              "{'cat': 'electronics',\n",
              " 'mfg_date': '15jan,2021',\n",
              " 'name': 'Wireless Headphone',\n",
              " 'pr': 690,\n",
              " 'qn': 29,\n",
              " 'size': '-',\n",
              " 'specification': 'blue,black'}"
            ]
          },
          "metadata": {},
          "execution_count": 17
        }
      ]
    },
    {
      "cell_type": "code",
      "metadata": {
        "colab": {
          "base_uri": "https://localhost:8080/"
        },
        "id": "ZcmZzFA2krxf",
        "outputId": "afbde211-c92e-48ba-891e-760c509892d7"
      },
      "source": [
        "js"
      ],
      "execution_count": 18,
      "outputs": [
        {
          "output_type": "execute_result",
          "data": {
            "text/plain": [
              "{'10001': {'catagory': 'soft-drink',\n",
              "  'mfg_date': '4Sept,2021',\n",
              "  'name': 'Coca Cola',\n",
              "  'price': 65,\n",
              "  'quantity': 100,\n",
              "  'size': '1.25L',\n",
              "  'specifications': '-'},\n",
              " '10002': {'catagory': 'soft-drink',\n",
              "  'mfg_date': '1Sept,2021',\n",
              "  'name': 'Coca Cola(Big size)',\n",
              "  'price': 89,\n",
              "  'quantity': 100,\n",
              "  'size': '2.25L',\n",
              "  'specifications': '-'},\n",
              " '10003': {'catagory': 'drink',\n",
              "  'mfg_date': '5Sept,2021',\n",
              "  'name': 'Maza Mango Drink',\n",
              "  'price': 46,\n",
              "  'quantity': 97,\n",
              "  'size': '1.2L',\n",
              "  'specifications': '-'},\n",
              " '10004': {'catagory': 'ice-cream family pack',\n",
              "  'mfg_date': '5Sept,2021',\n",
              "  'name': 'Cadbury Chocolate Choc Layered Cakes',\n",
              "  'price': 60,\n",
              "  'quantity': 100,\n",
              "  'size': '126gram',\n",
              "  'specifications': '-'},\n",
              " '10005': {'catagory': 'chocolate-bar',\n",
              "  'mfg_date': '5Sept,2021',\n",
              "  'name': 'Cadbury Dark Milk Chocolate Bar',\n",
              "  'price': 338,\n",
              "  'quantity': 100,\n",
              "  'size': '156gram',\n",
              "  'specifications': '-'},\n",
              " '10006': {'catagory': 'Chocolate',\n",
              "  'mfg_date': '5Sept,2021',\n",
              "  'name': 'Cadbury Dairy Milk Small',\n",
              "  'price': 40,\n",
              "  'quantity': 100,\n",
              "  'size': '54gram',\n",
              "  'specifications': '-'},\n",
              " '10007': {'catagory': 'chocolate-bar',\n",
              "  'mfg_date': '4Sept,2021',\n",
              "  'name': 'Cadbury Dairy Milk Silk Mousse Chocolate Bar',\n",
              "  'price': 78,\n",
              "  'quantity': 100,\n",
              "  'size': '50gram',\n",
              "  'specifications': '-'},\n",
              " '10008': {'catagory': 'food',\n",
              "  'mfg_date': '2Sept,2021',\n",
              "  'name': \"Kellogg's Chocos\",\n",
              "  'price': 445,\n",
              "  'quantity': 100,\n",
              "  'size': '1.2kg',\n",
              "  'specifications': '-'},\n",
              " '10009': {'catagory': 'Biscuit',\n",
              "  'mfg_date': '5Sept,2021',\n",
              "  'name': 'Sunfeast Dark Fantacy Choco Fills',\n",
              "  'price': 36,\n",
              "  'quantity': 100,\n",
              "  'size': '75gram',\n",
              "  'specifications': '-'},\n",
              " '10010': {'catagory': 'phone',\n",
              "  'mfg_date': '3feb,2021',\n",
              "  'name': 'Samsung Galaxy M31',\n",
              "  'price': 15999,\n",
              "  'quantity': 75,\n",
              "  'size': 'Screen size-6.4Inches',\n",
              "  'specifications': 'Ocean Blue,6GB RAM ,128GB Storage'},\n",
              " '10011': {'catagory': 'phone',\n",
              "  'mfg_date': '4mar,2021',\n",
              "  'name': 'Mi 11X Pro 5G',\n",
              "  'price': 49999,\n",
              "  'quantity': 60,\n",
              "  'size': 'Screen size-6.67Inches',\n",
              "  'specifications': 'Cosmic Black,8GB RAM ,256GB Storage'},\n",
              " '10012': {'catagory': 'phone',\n",
              "  'mfg_date': '13mar,2021',\n",
              "  'name': 'Realme Norzo 30',\n",
              "  'price': 16999,\n",
              "  'quantity': 55,\n",
              "  'size': 'Screen size-6.5Inches',\n",
              "  'specifications': 'Racing Silver,6GB RAM, 128GB Storage'},\n",
              " '10013': {'catagory': 'phone',\n",
              "  'mfg_date': '16feb,2021',\n",
              "  'name': 'Oppo A74 5G',\n",
              "  'price': 20999,\n",
              "  'quantity': 10,\n",
              "  'size': 'Screen size-6.5Inches',\n",
              "  'specifications': 'Fantastic Purple,6GB RAM,128GB Storage'},\n",
              " '10014': {'catagory': 'laptop',\n",
              "  'mfg_date': '4mar,2021',\n",
              "  'name': 'Lenovo IdeaPad Gaming 3 Intel Core i5 10th Gen Full HD IPS Gaming Laptop(Onyx Black)',\n",
              "  'price': 59990,\n",
              "  'quantity': 15,\n",
              "  'size': '2.2kg',\n",
              "  'specifications': '8GB/1TB HDD/Windows 10/NVIDIA GTX 1650 4GB GDDR6 Graphics'},\n",
              " '10015': {'catagory': 'laptop',\n",
              "  'mfg_date': '18feb,2021',\n",
              "  'name': 'HP Pavillon Gaming 10th Gen Intel Core i5 Processor 15.6Inch FHD Gaming Laptop(Shadow Black)',\n",
              "  'price': 67990,\n",
              "  'quantity': 10,\n",
              "  'size': '2.23kg',\n",
              "  'specifications': '8GB/512GB SSD+32GB Intel Optane/Windows 10/NVIDIA 1650Ti 4GB'},\n",
              " '10016': {'catagory': 'laptop',\n",
              "  'mfg_date': '3mar,2021',\n",
              "  'name': 'HP Elitebook UltraSlim Hybrid Laptop 820G1 Intel Core i5 - 4200u Processor',\n",
              "  'price': 89990,\n",
              "  'quantity': 10,\n",
              "  'size': '1.5kg',\n",
              "  'specifications': '8 GB Ram, 1TB Harddisk & 256 GB ssd, Windows 10 Pro, 12.5 Inches Notebook'},\n",
              " '10017': {'catagory': 'laptop',\n",
              "  'mfg_date': '16feb,2021',\n",
              "  'name': 'LG Gram Ultra-Light 11th Gen Core i5',\n",
              "  'price': 74490,\n",
              "  'quantity': 40,\n",
              "  'size': '999gram',\n",
              "  'specifications': '8 GB RAM, 512 GB SSD, Win-10, Iris Xe Graphics, 14-inches, Thunderbolt 4, USC -C x 2 (with Power)'},\n",
              " '10018': {'catagory': 'biscuit',\n",
              "  'mfg_date': '18jan,2021',\n",
              "  'name': 'Hide and Seek(Cafe Mocha)',\n",
              "  'price': 30,\n",
              "  'quantity': 145,\n",
              "  'size': '120gram',\n",
              "  'specifications': 'fresh'},\n",
              " '10019': {'catagory': 'biscuit',\n",
              "  'mfg_date': '20jan,2021',\n",
              "  'name': 'Britannia Treat Jim Jam',\n",
              "  'price': 35,\n",
              "  'quantity': 60,\n",
              "  'size': '150gram',\n",
              "  'specifications': 'fresh'},\n",
              " '10020': {'catagory': 'food',\n",
              "  'mfg_date': '15mar,2021',\n",
              "  'name': 'Bourn Vita',\n",
              "  'price': 290,\n",
              "  'quantity': 50,\n",
              "  'size': '750gram',\n",
              "  'specifications': '-'},\n",
              " '10021': {'catagory': 'nutritiion drink',\n",
              "  'mfg_date': '26Aug,2021',\n",
              "  'name': 'Horlicks',\n",
              "  'price': 739,\n",
              "  'quantity': 40,\n",
              "  'size': '2kg',\n",
              "  'specifications': 'healthy and nutritious drink'},\n",
              " '10022': {'catagory': 'food',\n",
              "  'mfg_date': '3Sept,2021',\n",
              "  'name': 'Maggi',\n",
              "  'price': 160,\n",
              "  'quantity': 50,\n",
              "  'size': '70gram',\n",
              "  'specifications': 'masala instant noodles'},\n",
              " '10023': {'catagory': 'food',\n",
              "  'mfg_date': '1Sept,2021',\n",
              "  'name': 'Sunfeast Yippee',\n",
              "  'price': 86,\n",
              "  'quantity': 40,\n",
              "  'size': '280gram',\n",
              "  'specifications': 'whole wheat/instant noodle'},\n",
              " '10024': {'catagory': 'mango-drink',\n",
              "  'mfg_date': '3Sept,2021',\n",
              "  'name': 'Frooti-mango drink',\n",
              "  'price': 60,\n",
              "  'quantity': 10,\n",
              "  'size': '300ml',\n",
              "  'specifications': '-'},\n",
              " '10025': {'catagory': 'food',\n",
              "  'mfg_date': '1Sept,2021',\n",
              "  'name': 'Kissan Jam',\n",
              "  'price': 250,\n",
              "  'quantity': 30,\n",
              "  'size': '1kg',\n",
              "  'specifications': 'mixed fruit jam'},\n",
              " '10026': {'catagory': 'food',\n",
              "  'mfg_date': '4Sept,2021',\n",
              "  'name': 'Kurkure snacks',\n",
              "  'price': 20,\n",
              "  'quantity': 100,\n",
              "  'size': '90gram',\n",
              "  'specifications': '-'},\n",
              " '10027': {'catagory': 'food',\n",
              "  'mfg_date': '5Sept,2021',\n",
              "  'name': 'Pop-corn',\n",
              "  'price': 198,\n",
              "  'quantity': 40,\n",
              "  'size': '450gram',\n",
              "  'specifications': 'pack of 3'},\n",
              " '10028': {'catagory': 'food',\n",
              "  'mfg_date': '5Sept,2021',\n",
              "  'name': 'Dried Strowberry',\n",
              "  'price': 230,\n",
              "  'quantity': 10,\n",
              "  'size': '200gram',\n",
              "  'specifications': '-'},\n",
              " '10029': {'catagory': 'stationary-notebook',\n",
              "  'mfg_date': '14jan,2021',\n",
              "  'name': 'Classmate Spiral Notebook',\n",
              "  'price': 240,\n",
              "  'quantity': 200,\n",
              "  'size': '-',\n",
              "  'specifications': 'Single line, Spiral Binding, 240mm x 180mm, 200 Pages, Pack of 4, Multicolor '},\n",
              " '10030': {'catagory': 'stationary-notebook',\n",
              "  'mfg_date': '1Aug,2021',\n",
              "  'name': 'Classmate Long Notebook ',\n",
              "  'price': 175,\n",
              "  'quantity': 100,\n",
              "  'size': '-',\n",
              "  'specifications': 'Soft Cover, 120 Pages, 272x167mm, Single Line'},\n",
              " '10031': {'cat': 'stationary-pencil',\n",
              "  'mfg_date': '1jan,2021',\n",
              "  'name': 'Nataraj Pencil',\n",
              "  'pr': 10,\n",
              "  'qn': 50,\n",
              "  'size': '10gram',\n",
              "  'specification': 'extra dark'},\n",
              " '10032': {'cat': 'electronics',\n",
              "  'mfg_date': '5jan,2021',\n",
              "  'name': 'Mike',\n",
              "  'pr': 599,\n",
              "  'quantity': 145,\n",
              "  'size': '-',\n",
              "  'specification': 'wireless'},\n",
              " '10033': {'cat': 'food',\n",
              "  'mfg_date': '1sept,2021',\n",
              "  'name': 'Kurkure Namkeen',\n",
              "  'pr': 20,\n",
              "  'qn': 10,\n",
              "  'size': '95gram',\n",
              "  'specification': 'masala munch'},\n",
              " '10034': {'cat': 'electronics',\n",
              "  'mfg_date': '14july,2021',\n",
              "  'name': 'Wired Headphone',\n",
              "  'pr': 500,\n",
              "  'qn': 40,\n",
              "  'size': '-',\n",
              "  'specification': 'black ,red ,blue colour'},\n",
              " '10035': {'cat': 'electronics',\n",
              "  'mfg_date': '15jan,2021',\n",
              "  'name': 'Wireless Headphone',\n",
              "  'pr': 690,\n",
              "  'qn': 29,\n",
              "  'size': '-',\n",
              "  'specification': 'blue,black'}}"
            ]
          },
          "metadata": {},
          "execution_count": 18
        }
      ]
    },
    {
      "cell_type": "code",
      "metadata": {
        "id": "rbA3yTvPeyUG"
      },
      "source": [
        "jss=(js[prod_id])"
      ],
      "execution_count": 19,
      "outputs": []
    },
    {
      "cell_type": "code",
      "metadata": {
        "colab": {
          "base_uri": "https://localhost:8080/"
        },
        "id": "HbTwM6Rvfp70",
        "outputId": "9237856d-cd1c-4906-b58f-1a7cdb286928"
      },
      "source": [
        "print(\"Updated repository:\",js)"
      ],
      "execution_count": 20,
      "outputs": [
        {
          "output_type": "stream",
          "name": "stdout",
          "text": [
            "Updated repository: {'10001': {'name': 'Coca Cola', 'price': 65, 'quantity': 100, 'catagory': 'soft-drink', 'mfg_date': '4Sept,2021', 'size': '1.25L', 'specifications': '-'}, '10002': {'name': 'Coca Cola(Big size)', 'price': 89, 'quantity': 100, 'catagory': 'soft-drink', 'mfg_date': '1Sept,2021', 'size': '2.25L', 'specifications': '-'}, '10003': {'name': 'Maza Mango Drink', 'price': 46, 'quantity': 97, 'catagory': 'drink', 'mfg_date': '5Sept,2021', 'size': '1.2L', 'specifications': '-'}, '10004': {'name': 'Cadbury Chocolate Choc Layered Cakes', 'price': 60, 'quantity': 100, 'catagory': 'ice-cream family pack', 'mfg_date': '5Sept,2021', 'size': '126gram', 'specifications': '-'}, '10005': {'name': 'Cadbury Dark Milk Chocolate Bar', 'price': 338, 'quantity': 100, 'catagory': 'chocolate-bar', 'mfg_date': '5Sept,2021', 'size': '156gram', 'specifications': '-'}, '10006': {'name': 'Cadbury Dairy Milk Small', 'price': 40, 'quantity': 100, 'catagory': 'Chocolate', 'mfg_date': '5Sept,2021', 'size': '54gram', 'specifications': '-'}, '10007': {'name': 'Cadbury Dairy Milk Silk Mousse Chocolate Bar', 'price': 78, 'quantity': 100, 'catagory': 'chocolate-bar', 'mfg_date': '4Sept,2021', 'size': '50gram', 'specifications': '-'}, '10008': {'name': \"Kellogg's Chocos\", 'price': 445, 'quantity': 100, 'catagory': 'food', 'mfg_date': '2Sept,2021', 'size': '1.2kg', 'specifications': '-'}, '10009': {'name': 'Sunfeast Dark Fantacy Choco Fills', 'price': 36, 'quantity': 100, 'catagory': 'Biscuit', 'mfg_date': '5Sept,2021', 'size': '75gram', 'specifications': '-'}, '10010': {'name': 'Samsung Galaxy M31', 'price': 15999, 'quantity': 75, 'catagory': 'phone', 'mfg_date': '3feb,2021', 'size': 'Screen size-6.4Inches', 'specifications': 'Ocean Blue,6GB RAM ,128GB Storage'}, '10011': {'name': 'Mi 11X Pro 5G', 'price': 49999, 'quantity': 60, 'catagory': 'phone', 'mfg_date': '4mar,2021', 'size': 'Screen size-6.67Inches', 'specifications': 'Cosmic Black,8GB RAM ,256GB Storage'}, '10012': {'name': 'Realme Norzo 30', 'price': 16999, 'quantity': 55, 'catagory': 'phone', 'mfg_date': '13mar,2021', 'size': 'Screen size-6.5Inches', 'specifications': 'Racing Silver,6GB RAM, 128GB Storage'}, '10013': {'name': 'Oppo A74 5G', 'price': 20999, 'quantity': 10, 'catagory': 'phone', 'mfg_date': '16feb,2021', 'size': 'Screen size-6.5Inches', 'specifications': 'Fantastic Purple,6GB RAM,128GB Storage'}, '10014': {'name': 'Lenovo IdeaPad Gaming 3 Intel Core i5 10th Gen Full HD IPS Gaming Laptop(Onyx Black)', 'price': 59990, 'quantity': 15, 'catagory': 'laptop', 'mfg_date': '4mar,2021', 'size': '2.2kg', 'specifications': '8GB/1TB HDD/Windows 10/NVIDIA GTX 1650 4GB GDDR6 Graphics'}, '10015': {'name': 'HP Pavillon Gaming 10th Gen Intel Core i5 Processor 15.6Inch FHD Gaming Laptop(Shadow Black)', 'price': 67990, 'quantity': 10, 'catagory': 'laptop', 'mfg_date': '18feb,2021', 'size': '2.23kg', 'specifications': '8GB/512GB SSD+32GB Intel Optane/Windows 10/NVIDIA 1650Ti 4GB'}, '10016': {'name': 'HP Elitebook UltraSlim Hybrid Laptop 820G1 Intel Core i5 - 4200u Processor', 'price': 89990, 'quantity': 10, 'catagory': 'laptop', 'mfg_date': '3mar,2021', 'size': '1.5kg', 'specifications': '8 GB Ram, 1TB Harddisk & 256 GB ssd, Windows 10 Pro, 12.5 Inches Notebook'}, '10017': {'name': 'LG Gram Ultra-Light 11th Gen Core i5', 'price': 74490, 'quantity': 40, 'catagory': 'laptop', 'mfg_date': '16feb,2021', 'size': '999gram', 'specifications': '8 GB RAM, 512 GB SSD, Win-10, Iris Xe Graphics, 14-inches, Thunderbolt 4, USC -C x 2 (with Power)'}, '10018': {'name': 'Hide and Seek(Cafe Mocha)', 'price': 30, 'quantity': 145, 'catagory': 'biscuit', 'mfg_date': '18jan,2021', 'size': '120gram', 'specifications': 'fresh'}, '10019': {'name': 'Britannia Treat Jim Jam', 'price': 35, 'quantity': 60, 'catagory': 'biscuit', 'mfg_date': '20jan,2021', 'size': '150gram', 'specifications': 'fresh'}, '10020': {'name': 'Bourn Vita', 'price': 290, 'quantity': 50, 'catagory': 'food', 'mfg_date': '15mar,2021', 'size': '750gram', 'specifications': '-'}, '10021': {'name': 'Horlicks', 'price': 739, 'quantity': 40, 'catagory': 'nutritiion drink', 'mfg_date': '26Aug,2021', 'size': '2kg', 'specifications': 'healthy and nutritious drink'}, '10022': {'name': 'Maggi', 'price': 160, 'quantity': 50, 'catagory': 'food', 'mfg_date': '3Sept,2021', 'size': '70gram', 'specifications': 'masala instant noodles'}, '10023': {'name': 'Sunfeast Yippee', 'price': 86, 'quantity': 40, 'catagory': 'food', 'mfg_date': '1Sept,2021', 'size': '280gram', 'specifications': 'whole wheat/instant noodle'}, '10024': {'name': 'Frooti-mango drink', 'price': 60, 'quantity': 10, 'catagory': 'mango-drink', 'mfg_date': '3Sept,2021', 'size': '300ml', 'specifications': '-'}, '10025': {'name': 'Kissan Jam', 'price': 250, 'quantity': 30, 'catagory': 'food', 'mfg_date': '1Sept,2021', 'size': '1kg', 'specifications': 'mixed fruit jam'}, '10026': {'name': 'Kurkure snacks', 'price': 20, 'quantity': 100, 'catagory': 'food', 'mfg_date': '4Sept,2021', 'size': '90gram', 'specifications': '-'}, '10027': {'name': 'Pop-corn', 'price': 198, 'quantity': 40, 'catagory': 'food', 'mfg_date': '5Sept,2021', 'size': '450gram', 'specifications': 'pack of 3'}, '10028': {'name': 'Dried Strowberry', 'price': 230, 'quantity': 10, 'catagory': 'food', 'mfg_date': '5Sept,2021', 'size': '200gram', 'specifications': '-'}, '10029': {'name': 'Classmate Spiral Notebook', 'price': 240, 'quantity': 200, 'catagory': 'stationary-notebook', 'mfg_date': '14jan,2021', 'size': '-', 'specifications': 'Single line, Spiral Binding, 240mm x 180mm, 200 Pages, Pack of 4, Multicolor '}, '10030': {'name': 'Classmate Long Notebook ', 'price': 175, 'quantity': 100, 'catagory': 'stationary-notebook', 'mfg_date': '1Aug,2021', 'size': '-', 'specifications': 'Soft Cover, 120 Pages, 272x167mm, Single Line'}, '10031': {'name': 'Nataraj Pencil', 'pr': 10, 'qn': 50, 'cat': 'stationary-pencil', 'mfg_date': '1jan,2021', 'size': '10gram', 'specification': 'extra dark'}, '10032': {'name': 'Mike', 'pr': 599, 'quantity': 145, 'cat': 'electronics', 'mfg_date': '5jan,2021', 'size': '-', 'specification': 'wireless'}, '10033': {'name': 'Kurkure Namkeen', 'pr': 20, 'qn': 10, 'cat': 'food', 'mfg_date': '1sept,2021', 'size': '95gram', 'specification': 'masala munch'}, '10034': {'name': 'Wired Headphone', 'pr': 500, 'qn': 40, 'cat': 'electronics', 'mfg_date': '14july,2021', 'size': '-', 'specification': 'black ,red ,blue colour'}, '10035': {'name': 'Wireless Headphone', 'pr': 690, 'qn': 29, 'cat': 'electronics', 'mfg_date': '15jan,2021', 'size': '-', 'specification': 'blue,black'}}\n"
          ]
        }
      ]
    },
    {
      "cell_type": "code",
      "metadata": {
        "id": "6J7xgBXjofUX"
      },
      "source": [
        "fd=open(\"records.json\",\"r\")\n",
        "fd.read()\n",
        "fd.close()\n",
        "jd=json.dumps(js)"
      ],
      "execution_count": 21,
      "outputs": []
    },
    {
      "cell_type": "code",
      "metadata": {
        "id": "7sNNI1C4exNU"
      },
      "source": [
        "fd=open(\"records.json\",\"w\")\n",
        "reco=fd.write(jd)\n",
        "fd.close()"
      ],
      "execution_count": 22,
      "outputs": []
    },
    {
      "cell_type": "markdown",
      "metadata": {
        "id": "6_V0nDCPe8wT"
      },
      "source": [
        "3)Purchasing products:"
      ]
    },
    {
      "cell_type": "code",
      "metadata": {
        "id": "s0uE8sZ3p2X-"
      },
      "source": [
        "fd=open(\"records.json\",\"r\")\n",
        "records=fd.read()\n",
        "fd.close()\n",
        "js=json.loads(jd)"
      ],
      "execution_count": 25,
      "outputs": []
    },
    {
      "cell_type": "code",
      "metadata": {
        "colab": {
          "base_uri": "https://localhost:8080/"
        },
        "id": "nekZ4yGPxKEL",
        "outputId": "aad48d4e-6094-4c93-f660-88f61551da6e"
      },
      "source": [
        "print(\"Select prod_id from following inventory(js) to buy product \")"
      ],
      "execution_count": 26,
      "outputs": [
        {
          "output_type": "stream",
          "name": "stdout",
          "text": [
            "Select prod_id from following inventory(js) to buy product \n"
          ]
        }
      ]
    },
    {
      "cell_type": "code",
      "metadata": {
        "colab": {
          "base_uri": "https://localhost:8080/"
        },
        "id": "0a7lDJYurbAn",
        "outputId": "01aeb8e3-a871-46a0-d968-faefd4679dcb"
      },
      "source": [
        "js"
      ],
      "execution_count": 27,
      "outputs": [
        {
          "output_type": "execute_result",
          "data": {
            "text/plain": [
              "{'10001': {'catagory': 'soft-drink',\n",
              "  'mfg_date': '4Sept,2021',\n",
              "  'name': 'Coca Cola',\n",
              "  'price': 65,\n",
              "  'quantity': 100,\n",
              "  'size': '1.25L',\n",
              "  'specifications': '-'},\n",
              " '10002': {'catagory': 'soft-drink',\n",
              "  'mfg_date': '1Sept,2021',\n",
              "  'name': 'Coca Cola(Big size)',\n",
              "  'price': 89,\n",
              "  'quantity': 100,\n",
              "  'size': '2.25L',\n",
              "  'specifications': '-'},\n",
              " '10003': {'catagory': 'drink',\n",
              "  'mfg_date': '5Sept,2021',\n",
              "  'name': 'Maza Mango Drink',\n",
              "  'price': 46,\n",
              "  'quantity': 97,\n",
              "  'size': '1.2L',\n",
              "  'specifications': '-'},\n",
              " '10004': {'catagory': 'ice-cream family pack',\n",
              "  'mfg_date': '5Sept,2021',\n",
              "  'name': 'Cadbury Chocolate Choc Layered Cakes',\n",
              "  'price': 60,\n",
              "  'quantity': 100,\n",
              "  'size': '126gram',\n",
              "  'specifications': '-'},\n",
              " '10005': {'catagory': 'chocolate-bar',\n",
              "  'mfg_date': '5Sept,2021',\n",
              "  'name': 'Cadbury Dark Milk Chocolate Bar',\n",
              "  'price': 338,\n",
              "  'quantity': 100,\n",
              "  'size': '156gram',\n",
              "  'specifications': '-'},\n",
              " '10006': {'catagory': 'Chocolate',\n",
              "  'mfg_date': '5Sept,2021',\n",
              "  'name': 'Cadbury Dairy Milk Small',\n",
              "  'price': 40,\n",
              "  'quantity': 100,\n",
              "  'size': '54gram',\n",
              "  'specifications': '-'},\n",
              " '10007': {'catagory': 'chocolate-bar',\n",
              "  'mfg_date': '4Sept,2021',\n",
              "  'name': 'Cadbury Dairy Milk Silk Mousse Chocolate Bar',\n",
              "  'price': 78,\n",
              "  'quantity': 100,\n",
              "  'size': '50gram',\n",
              "  'specifications': '-'},\n",
              " '10008': {'catagory': 'food',\n",
              "  'mfg_date': '2Sept,2021',\n",
              "  'name': \"Kellogg's Chocos\",\n",
              "  'price': 445,\n",
              "  'quantity': 100,\n",
              "  'size': '1.2kg',\n",
              "  'specifications': '-'},\n",
              " '10009': {'catagory': 'Biscuit',\n",
              "  'mfg_date': '5Sept,2021',\n",
              "  'name': 'Sunfeast Dark Fantacy Choco Fills',\n",
              "  'price': 36,\n",
              "  'quantity': 100,\n",
              "  'size': '75gram',\n",
              "  'specifications': '-'},\n",
              " '10010': {'catagory': 'phone',\n",
              "  'mfg_date': '3feb,2021',\n",
              "  'name': 'Samsung Galaxy M31',\n",
              "  'price': 15999,\n",
              "  'quantity': 75,\n",
              "  'size': 'Screen size-6.4Inches',\n",
              "  'specifications': 'Ocean Blue,6GB RAM ,128GB Storage'},\n",
              " '10011': {'catagory': 'phone',\n",
              "  'mfg_date': '4mar,2021',\n",
              "  'name': 'Mi 11X Pro 5G',\n",
              "  'price': 49999,\n",
              "  'quantity': 60,\n",
              "  'size': 'Screen size-6.67Inches',\n",
              "  'specifications': 'Cosmic Black,8GB RAM ,256GB Storage'},\n",
              " '10012': {'catagory': 'phone',\n",
              "  'mfg_date': '13mar,2021',\n",
              "  'name': 'Realme Norzo 30',\n",
              "  'price': 16999,\n",
              "  'quantity': 55,\n",
              "  'size': 'Screen size-6.5Inches',\n",
              "  'specifications': 'Racing Silver,6GB RAM, 128GB Storage'},\n",
              " '10013': {'catagory': 'phone',\n",
              "  'mfg_date': '16feb,2021',\n",
              "  'name': 'Oppo A74 5G',\n",
              "  'price': 20999,\n",
              "  'quantity': 10,\n",
              "  'size': 'Screen size-6.5Inches',\n",
              "  'specifications': 'Fantastic Purple,6GB RAM,128GB Storage'},\n",
              " '10014': {'catagory': 'laptop',\n",
              "  'mfg_date': '4mar,2021',\n",
              "  'name': 'Lenovo IdeaPad Gaming 3 Intel Core i5 10th Gen Full HD IPS Gaming Laptop(Onyx Black)',\n",
              "  'price': 59990,\n",
              "  'quantity': 15,\n",
              "  'size': '2.2kg',\n",
              "  'specifications': '8GB/1TB HDD/Windows 10/NVIDIA GTX 1650 4GB GDDR6 Graphics'},\n",
              " '10015': {'catagory': 'laptop',\n",
              "  'mfg_date': '18feb,2021',\n",
              "  'name': 'HP Pavillon Gaming 10th Gen Intel Core i5 Processor 15.6Inch FHD Gaming Laptop(Shadow Black)',\n",
              "  'price': 67990,\n",
              "  'quantity': 10,\n",
              "  'size': '2.23kg',\n",
              "  'specifications': '8GB/512GB SSD+32GB Intel Optane/Windows 10/NVIDIA 1650Ti 4GB'},\n",
              " '10016': {'catagory': 'laptop',\n",
              "  'mfg_date': '3mar,2021',\n",
              "  'name': 'HP Elitebook UltraSlim Hybrid Laptop 820G1 Intel Core i5 - 4200u Processor',\n",
              "  'price': 89990,\n",
              "  'quantity': 10,\n",
              "  'size': '1.5kg',\n",
              "  'specifications': '8 GB Ram, 1TB Harddisk & 256 GB ssd, Windows 10 Pro, 12.5 Inches Notebook'},\n",
              " '10017': {'catagory': 'laptop',\n",
              "  'mfg_date': '16feb,2021',\n",
              "  'name': 'LG Gram Ultra-Light 11th Gen Core i5',\n",
              "  'price': 74490,\n",
              "  'quantity': 40,\n",
              "  'size': '999gram',\n",
              "  'specifications': '8 GB RAM, 512 GB SSD, Win-10, Iris Xe Graphics, 14-inches, Thunderbolt 4, USC -C x 2 (with Power)'},\n",
              " '10018': {'catagory': 'biscuit',\n",
              "  'mfg_date': '18jan,2021',\n",
              "  'name': 'Hide and Seek(Cafe Mocha)',\n",
              "  'price': 30,\n",
              "  'quantity': 145,\n",
              "  'size': '120gram',\n",
              "  'specifications': 'fresh'},\n",
              " '10019': {'catagory': 'biscuit',\n",
              "  'mfg_date': '20jan,2021',\n",
              "  'name': 'Britannia Treat Jim Jam',\n",
              "  'price': 35,\n",
              "  'quantity': 60,\n",
              "  'size': '150gram',\n",
              "  'specifications': 'fresh'},\n",
              " '10020': {'catagory': 'food',\n",
              "  'mfg_date': '15mar,2021',\n",
              "  'name': 'Bourn Vita',\n",
              "  'price': 290,\n",
              "  'quantity': 50,\n",
              "  'size': '750gram',\n",
              "  'specifications': '-'},\n",
              " '10021': {'catagory': 'nutritiion drink',\n",
              "  'mfg_date': '26Aug,2021',\n",
              "  'name': 'Horlicks',\n",
              "  'price': 739,\n",
              "  'quantity': 40,\n",
              "  'size': '2kg',\n",
              "  'specifications': 'healthy and nutritious drink'},\n",
              " '10022': {'catagory': 'food',\n",
              "  'mfg_date': '3Sept,2021',\n",
              "  'name': 'Maggi',\n",
              "  'price': 160,\n",
              "  'quantity': 50,\n",
              "  'size': '70gram',\n",
              "  'specifications': 'masala instant noodles'},\n",
              " '10023': {'catagory': 'food',\n",
              "  'mfg_date': '1Sept,2021',\n",
              "  'name': 'Sunfeast Yippee',\n",
              "  'price': 86,\n",
              "  'quantity': 40,\n",
              "  'size': '280gram',\n",
              "  'specifications': 'whole wheat/instant noodle'},\n",
              " '10024': {'catagory': 'mango-drink',\n",
              "  'mfg_date': '3Sept,2021',\n",
              "  'name': 'Frooti-mango drink',\n",
              "  'price': 60,\n",
              "  'quantity': 10,\n",
              "  'size': '300ml',\n",
              "  'specifications': '-'},\n",
              " '10025': {'catagory': 'food',\n",
              "  'mfg_date': '1Sept,2021',\n",
              "  'name': 'Kissan Jam',\n",
              "  'price': 250,\n",
              "  'quantity': 30,\n",
              "  'size': '1kg',\n",
              "  'specifications': 'mixed fruit jam'},\n",
              " '10026': {'catagory': 'food',\n",
              "  'mfg_date': '4Sept,2021',\n",
              "  'name': 'Kurkure snacks',\n",
              "  'price': 20,\n",
              "  'quantity': 100,\n",
              "  'size': '90gram',\n",
              "  'specifications': '-'},\n",
              " '10027': {'catagory': 'food',\n",
              "  'mfg_date': '5Sept,2021',\n",
              "  'name': 'Pop-corn',\n",
              "  'price': 198,\n",
              "  'quantity': 40,\n",
              "  'size': '450gram',\n",
              "  'specifications': 'pack of 3'},\n",
              " '10028': {'catagory': 'food',\n",
              "  'mfg_date': '5Sept,2021',\n",
              "  'name': 'Dried Strowberry',\n",
              "  'price': 230,\n",
              "  'quantity': 10,\n",
              "  'size': '200gram',\n",
              "  'specifications': '-'},\n",
              " '10029': {'catagory': 'stationary-notebook',\n",
              "  'mfg_date': '14jan,2021',\n",
              "  'name': 'Classmate Spiral Notebook',\n",
              "  'price': 240,\n",
              "  'quantity': 200,\n",
              "  'size': '-',\n",
              "  'specifications': 'Single line, Spiral Binding, 240mm x 180mm, 200 Pages, Pack of 4, Multicolor '},\n",
              " '10030': {'catagory': 'stationary-notebook',\n",
              "  'mfg_date': '1Aug,2021',\n",
              "  'name': 'Classmate Long Notebook ',\n",
              "  'price': 175,\n",
              "  'quantity': 100,\n",
              "  'size': '-',\n",
              "  'specifications': 'Soft Cover, 120 Pages, 272x167mm, Single Line'},\n",
              " '10031': {'cat': 'stationary-pencil',\n",
              "  'mfg_date': '1jan,2021',\n",
              "  'name': 'Nataraj Pencil',\n",
              "  'pr': 10,\n",
              "  'qn': 50,\n",
              "  'size': '10gram',\n",
              "  'specification': 'extra dark'},\n",
              " '10032': {'cat': 'electronics',\n",
              "  'mfg_date': '5jan,2021',\n",
              "  'name': 'Mike',\n",
              "  'pr': 599,\n",
              "  'quantity': 145,\n",
              "  'size': '-',\n",
              "  'specification': 'wireless'},\n",
              " '10033': {'cat': 'food',\n",
              "  'mfg_date': '1sept,2021',\n",
              "  'name': 'Kurkure Namkeen',\n",
              "  'pr': 20,\n",
              "  'qn': 10,\n",
              "  'size': '95gram',\n",
              "  'specification': 'masala munch'},\n",
              " '10034': {'cat': 'electronics',\n",
              "  'mfg_date': '14july,2021',\n",
              "  'name': 'Wired Headphone',\n",
              "  'pr': 500,\n",
              "  'qn': 40,\n",
              "  'size': '-',\n",
              "  'specification': 'black ,red ,blue colour'},\n",
              " '10035': {'cat': 'electronics',\n",
              "  'mfg_date': '15jan,2021',\n",
              "  'name': 'Wireless Headphone',\n",
              "  'pr': 690,\n",
              "  'qn': 29,\n",
              "  'size': '-',\n",
              "  'specification': 'blue,black'}}"
            ]
          },
          "metadata": {},
          "execution_count": 27
        }
      ]
    },
    {
      "cell_type": "code",
      "metadata": {
        "colab": {
          "base_uri": "https://localhost:8080/"
        },
        "id": "VnlNdFiHrfTq",
        "outputId": "cd73e0f5-25cb-4479-c952-0665a03e60ba"
      },
      "source": [
        "type(js)"
      ],
      "execution_count": 28,
      "outputs": [
        {
          "output_type": "execute_result",
          "data": {
            "text/plain": [
              "dict"
            ]
          },
          "metadata": {},
          "execution_count": 28
        }
      ]
    },
    {
      "cell_type": "code",
      "metadata": {
        "id": "7cMkSsqEzMiJ"
      },
      "source": [
        ""
      ],
      "execution_count": null,
      "outputs": []
    },
    {
      "cell_type": "code",
      "metadata": {
        "id": "zwPlnZ15upSW"
      },
      "source": [
        "qnn=js[prod_ui]['name']\n",
        "qna=js[prod_ui]['quantity']\n",
        "prc=js[prod_ui]['price']\n",
        "catr=js[prod_ui]['catagory']"
      ],
      "execution_count": 36,
      "outputs": []
    },
    {
      "cell_type": "code",
      "metadata": {
        "colab": {
          "base_uri": "https://localhost:8080/"
        },
        "id": "u7HnF0afe3ul",
        "outputId": "37a4b86b-b6b7-4cf5-f942-4fac2ff79f15"
      },
      "source": [
        "prod_ui=str(input(\"Enter your choice id\"))\n",
        "prod_qn=int(input(\"Select the quantity you want\"))"
      ],
      "execution_count": 34,
      "outputs": [
        {
          "name": "stdout",
          "output_type": "stream",
          "text": [
            "Enter your choice id10003\n",
            "Select the quantity you want5\n"
          ]
        }
      ]
    },
    {
      "cell_type": "code",
      "metadata": {
        "colab": {
          "base_uri": "https://localhost:8080/"
        },
        "id": "yo5txrG7ppRm",
        "outputId": "d7553a26-0e5b-49ec-8006-3fcc119525e3"
      },
      "source": [
        "if(int(prod_qn)<=qna):\n",
        "    print(\"Product is available please proceed to pay after reading details\")\n",
        "    print(\"Available details\",js[prod_ui])\n",
        "else:\n",
        "  print(\"Sorry for inconvinience , required product is not available\")"
      ],
      "execution_count": 37,
      "outputs": [
        {
          "output_type": "stream",
          "name": "stdout",
          "text": [
            "Product is available please proceed to pay after reading details\n",
            "Available details {'name': 'Maza Mango Drink', 'price': 46, 'quantity': 97, 'catagory': 'drink', 'mfg_date': '5Sept,2021', 'size': '1.2L', 'specifications': '-'}\n"
          ]
        }
      ]
    },
    {
      "cell_type": "markdown",
      "metadata": {
        "id": "-TqwYZQLw79T"
      },
      "source": [
        "4)Bill Generation:"
      ]
    },
    {
      "cell_type": "code",
      "metadata": {
        "colab": {
          "base_uri": "https://localhost:8080/"
        },
        "id": "jQYIMPYAxCSo",
        "outputId": "a449e025-99b9-4f13-ae7e-2b78f2d11c75"
      },
      "source": [
        "print(\"WELCOME!\")\n",
        "Customer_name=str(input(\"Please enter your name\"))\n",
        "Bil_amt=prc*(prod_qn)\n",
        "print(\"To proceed pay Rs\",int(Bil_amt))\n",
        "print(\"Thanks for purchasing product.\")\n"
      ],
      "execution_count": 41,
      "outputs": [
        {
          "output_type": "stream",
          "name": "stdout",
          "text": [
            "WELCOME!\n",
            "Please enter your nameSejal Shinde\n",
            "To proceed pay Rs 230\n",
            "Thanks for purchasing product.\n"
          ]
        }
      ]
    },
    {
      "cell_type": "markdown",
      "metadata": {
        "id": "Q3-f0YsgwJBR"
      },
      "source": [
        "5)Re-update inventory after purchasing product"
      ]
    },
    {
      "cell_type": "code",
      "metadata": {
        "id": "H4i-USGHlwoa"
      },
      "source": [
        "qna=qna-prod_qn"
      ],
      "execution_count": 42,
      "outputs": []
    },
    {
      "cell_type": "code",
      "metadata": {
        "colab": {
          "base_uri": "https://localhost:8080/"
        },
        "id": "AI7lkIMgmFZM",
        "outputId": "feee1d8e-56f2-43e7-f991-655043f36fc3"
      },
      "source": [
        "qna"
      ],
      "execution_count": 43,
      "outputs": [
        {
          "output_type": "execute_result",
          "data": {
            "text/plain": [
              "92"
            ]
          },
          "metadata": {},
          "execution_count": 43
        }
      ]
    },
    {
      "cell_type": "code",
      "metadata": {
        "id": "zPUFgzLmnT4T"
      },
      "source": [
        "js[prod_ui][\"quantity\"] = qna"
      ],
      "execution_count": 44,
      "outputs": []
    },
    {
      "cell_type": "code",
      "metadata": {
        "colab": {
          "base_uri": "https://localhost:8080/"
        },
        "id": "7YwXHKOYmHki",
        "outputId": "47f7370f-edee-4c5d-dea0-2e7fe1892fb6"
      },
      "source": [
        "js"
      ],
      "execution_count": 45,
      "outputs": [
        {
          "output_type": "execute_result",
          "data": {
            "text/plain": [
              "{'10001': {'catagory': 'soft-drink',\n",
              "  'mfg_date': '4Sept,2021',\n",
              "  'name': 'Coca Cola',\n",
              "  'price': 65,\n",
              "  'quantity': 100,\n",
              "  'size': '1.25L',\n",
              "  'specifications': '-'},\n",
              " '10002': {'catagory': 'soft-drink',\n",
              "  'mfg_date': '1Sept,2021',\n",
              "  'name': 'Coca Cola(Big size)',\n",
              "  'price': 89,\n",
              "  'quantity': 100,\n",
              "  'size': '2.25L',\n",
              "  'specifications': '-'},\n",
              " '10003': {'catagory': 'drink',\n",
              "  'mfg_date': '5Sept,2021',\n",
              "  'name': 'Maza Mango Drink',\n",
              "  'price': 46,\n",
              "  'quantity': 92,\n",
              "  'size': '1.2L',\n",
              "  'specifications': '-'},\n",
              " '10004': {'catagory': 'ice-cream family pack',\n",
              "  'mfg_date': '5Sept,2021',\n",
              "  'name': 'Cadbury Chocolate Choc Layered Cakes',\n",
              "  'price': 60,\n",
              "  'quantity': 100,\n",
              "  'size': '126gram',\n",
              "  'specifications': '-'},\n",
              " '10005': {'catagory': 'chocolate-bar',\n",
              "  'mfg_date': '5Sept,2021',\n",
              "  'name': 'Cadbury Dark Milk Chocolate Bar',\n",
              "  'price': 338,\n",
              "  'quantity': 100,\n",
              "  'size': '156gram',\n",
              "  'specifications': '-'},\n",
              " '10006': {'catagory': 'Chocolate',\n",
              "  'mfg_date': '5Sept,2021',\n",
              "  'name': 'Cadbury Dairy Milk Small',\n",
              "  'price': 40,\n",
              "  'quantity': 100,\n",
              "  'size': '54gram',\n",
              "  'specifications': '-'},\n",
              " '10007': {'catagory': 'chocolate-bar',\n",
              "  'mfg_date': '4Sept,2021',\n",
              "  'name': 'Cadbury Dairy Milk Silk Mousse Chocolate Bar',\n",
              "  'price': 78,\n",
              "  'quantity': 100,\n",
              "  'size': '50gram',\n",
              "  'specifications': '-'},\n",
              " '10008': {'catagory': 'food',\n",
              "  'mfg_date': '2Sept,2021',\n",
              "  'name': \"Kellogg's Chocos\",\n",
              "  'price': 445,\n",
              "  'quantity': 100,\n",
              "  'size': '1.2kg',\n",
              "  'specifications': '-'},\n",
              " '10009': {'catagory': 'Biscuit',\n",
              "  'mfg_date': '5Sept,2021',\n",
              "  'name': 'Sunfeast Dark Fantacy Choco Fills',\n",
              "  'price': 36,\n",
              "  'quantity': 100,\n",
              "  'size': '75gram',\n",
              "  'specifications': '-'},\n",
              " '10010': {'catagory': 'phone',\n",
              "  'mfg_date': '3feb,2021',\n",
              "  'name': 'Samsung Galaxy M31',\n",
              "  'price': 15999,\n",
              "  'quantity': 75,\n",
              "  'size': 'Screen size-6.4Inches',\n",
              "  'specifications': 'Ocean Blue,6GB RAM ,128GB Storage'},\n",
              " '10011': {'catagory': 'phone',\n",
              "  'mfg_date': '4mar,2021',\n",
              "  'name': 'Mi 11X Pro 5G',\n",
              "  'price': 49999,\n",
              "  'quantity': 60,\n",
              "  'size': 'Screen size-6.67Inches',\n",
              "  'specifications': 'Cosmic Black,8GB RAM ,256GB Storage'},\n",
              " '10012': {'catagory': 'phone',\n",
              "  'mfg_date': '13mar,2021',\n",
              "  'name': 'Realme Norzo 30',\n",
              "  'price': 16999,\n",
              "  'quantity': 55,\n",
              "  'size': 'Screen size-6.5Inches',\n",
              "  'specifications': 'Racing Silver,6GB RAM, 128GB Storage'},\n",
              " '10013': {'catagory': 'phone',\n",
              "  'mfg_date': '16feb,2021',\n",
              "  'name': 'Oppo A74 5G',\n",
              "  'price': 20999,\n",
              "  'quantity': 10,\n",
              "  'size': 'Screen size-6.5Inches',\n",
              "  'specifications': 'Fantastic Purple,6GB RAM,128GB Storage'},\n",
              " '10014': {'catagory': 'laptop',\n",
              "  'mfg_date': '4mar,2021',\n",
              "  'name': 'Lenovo IdeaPad Gaming 3 Intel Core i5 10th Gen Full HD IPS Gaming Laptop(Onyx Black)',\n",
              "  'price': 59990,\n",
              "  'quantity': 15,\n",
              "  'size': '2.2kg',\n",
              "  'specifications': '8GB/1TB HDD/Windows 10/NVIDIA GTX 1650 4GB GDDR6 Graphics'},\n",
              " '10015': {'catagory': 'laptop',\n",
              "  'mfg_date': '18feb,2021',\n",
              "  'name': 'HP Pavillon Gaming 10th Gen Intel Core i5 Processor 15.6Inch FHD Gaming Laptop(Shadow Black)',\n",
              "  'price': 67990,\n",
              "  'quantity': 10,\n",
              "  'size': '2.23kg',\n",
              "  'specifications': '8GB/512GB SSD+32GB Intel Optane/Windows 10/NVIDIA 1650Ti 4GB'},\n",
              " '10016': {'catagory': 'laptop',\n",
              "  'mfg_date': '3mar,2021',\n",
              "  'name': 'HP Elitebook UltraSlim Hybrid Laptop 820G1 Intel Core i5 - 4200u Processor',\n",
              "  'price': 89990,\n",
              "  'quantity': 10,\n",
              "  'size': '1.5kg',\n",
              "  'specifications': '8 GB Ram, 1TB Harddisk & 256 GB ssd, Windows 10 Pro, 12.5 Inches Notebook'},\n",
              " '10017': {'catagory': 'laptop',\n",
              "  'mfg_date': '16feb,2021',\n",
              "  'name': 'LG Gram Ultra-Light 11th Gen Core i5',\n",
              "  'price': 74490,\n",
              "  'quantity': 40,\n",
              "  'size': '999gram',\n",
              "  'specifications': '8 GB RAM, 512 GB SSD, Win-10, Iris Xe Graphics, 14-inches, Thunderbolt 4, USC -C x 2 (with Power)'},\n",
              " '10018': {'catagory': 'biscuit',\n",
              "  'mfg_date': '18jan,2021',\n",
              "  'name': 'Hide and Seek(Cafe Mocha)',\n",
              "  'price': 30,\n",
              "  'quantity': 145,\n",
              "  'size': '120gram',\n",
              "  'specifications': 'fresh'},\n",
              " '10019': {'catagory': 'biscuit',\n",
              "  'mfg_date': '20jan,2021',\n",
              "  'name': 'Britannia Treat Jim Jam',\n",
              "  'price': 35,\n",
              "  'quantity': 60,\n",
              "  'size': '150gram',\n",
              "  'specifications': 'fresh'},\n",
              " '10020': {'catagory': 'food',\n",
              "  'mfg_date': '15mar,2021',\n",
              "  'name': 'Bourn Vita',\n",
              "  'price': 290,\n",
              "  'quantity': 50,\n",
              "  'size': '750gram',\n",
              "  'specifications': '-'},\n",
              " '10021': {'catagory': 'nutritiion drink',\n",
              "  'mfg_date': '26Aug,2021',\n",
              "  'name': 'Horlicks',\n",
              "  'price': 739,\n",
              "  'quantity': 40,\n",
              "  'size': '2kg',\n",
              "  'specifications': 'healthy and nutritious drink'},\n",
              " '10022': {'catagory': 'food',\n",
              "  'mfg_date': '3Sept,2021',\n",
              "  'name': 'Maggi',\n",
              "  'price': 160,\n",
              "  'quantity': 50,\n",
              "  'size': '70gram',\n",
              "  'specifications': 'masala instant noodles'},\n",
              " '10023': {'catagory': 'food',\n",
              "  'mfg_date': '1Sept,2021',\n",
              "  'name': 'Sunfeast Yippee',\n",
              "  'price': 86,\n",
              "  'quantity': 40,\n",
              "  'size': '280gram',\n",
              "  'specifications': 'whole wheat/instant noodle'},\n",
              " '10024': {'catagory': 'mango-drink',\n",
              "  'mfg_date': '3Sept,2021',\n",
              "  'name': 'Frooti-mango drink',\n",
              "  'price': 60,\n",
              "  'quantity': 10,\n",
              "  'size': '300ml',\n",
              "  'specifications': '-'},\n",
              " '10025': {'catagory': 'food',\n",
              "  'mfg_date': '1Sept,2021',\n",
              "  'name': 'Kissan Jam',\n",
              "  'price': 250,\n",
              "  'quantity': 30,\n",
              "  'size': '1kg',\n",
              "  'specifications': 'mixed fruit jam'},\n",
              " '10026': {'catagory': 'food',\n",
              "  'mfg_date': '4Sept,2021',\n",
              "  'name': 'Kurkure snacks',\n",
              "  'price': 20,\n",
              "  'quantity': 100,\n",
              "  'size': '90gram',\n",
              "  'specifications': '-'},\n",
              " '10027': {'catagory': 'food',\n",
              "  'mfg_date': '5Sept,2021',\n",
              "  'name': 'Pop-corn',\n",
              "  'price': 198,\n",
              "  'quantity': 40,\n",
              "  'size': '450gram',\n",
              "  'specifications': 'pack of 3'},\n",
              " '10028': {'catagory': 'food',\n",
              "  'mfg_date': '5Sept,2021',\n",
              "  'name': 'Dried Strowberry',\n",
              "  'price': 230,\n",
              "  'quantity': 10,\n",
              "  'size': '200gram',\n",
              "  'specifications': '-'},\n",
              " '10029': {'catagory': 'stationary-notebook',\n",
              "  'mfg_date': '14jan,2021',\n",
              "  'name': 'Classmate Spiral Notebook',\n",
              "  'price': 240,\n",
              "  'quantity': 200,\n",
              "  'size': '-',\n",
              "  'specifications': 'Single line, Spiral Binding, 240mm x 180mm, 200 Pages, Pack of 4, Multicolor '},\n",
              " '10030': {'catagory': 'stationary-notebook',\n",
              "  'mfg_date': '1Aug,2021',\n",
              "  'name': 'Classmate Long Notebook ',\n",
              "  'price': 175,\n",
              "  'quantity': 100,\n",
              "  'size': '-',\n",
              "  'specifications': 'Soft Cover, 120 Pages, 272x167mm, Single Line'},\n",
              " '10031': {'cat': 'stationary-pencil',\n",
              "  'mfg_date': '1jan,2021',\n",
              "  'name': 'Nataraj Pencil',\n",
              "  'pr': 10,\n",
              "  'qn': 50,\n",
              "  'size': '10gram',\n",
              "  'specification': 'extra dark'},\n",
              " '10032': {'cat': 'electronics',\n",
              "  'mfg_date': '5jan,2021',\n",
              "  'name': 'Mike',\n",
              "  'pr': 599,\n",
              "  'quantity': 145,\n",
              "  'size': '-',\n",
              "  'specification': 'wireless'},\n",
              " '10033': {'cat': 'food',\n",
              "  'mfg_date': '1sept,2021',\n",
              "  'name': 'Kurkure Namkeen',\n",
              "  'pr': 20,\n",
              "  'qn': 10,\n",
              "  'size': '95gram',\n",
              "  'specification': 'masala munch'},\n",
              " '10034': {'cat': 'electronics',\n",
              "  'mfg_date': '14july,2021',\n",
              "  'name': 'Wired Headphone',\n",
              "  'pr': 500,\n",
              "  'qn': 40,\n",
              "  'size': '-',\n",
              "  'specification': 'black ,red ,blue colour'},\n",
              " '10035': {'cat': 'electronics',\n",
              "  'mfg_date': '15jan,2021',\n",
              "  'name': 'Wireless Headphone',\n",
              "  'pr': 690,\n",
              "  'qn': 29,\n",
              "  'size': '-',\n",
              "  'specification': 'blue,black'}}"
            ]
          },
          "metadata": {},
          "execution_count": 45
        }
      ]
    },
    {
      "cell_type": "code",
      "metadata": {
        "id": "ybOn2SA29D_J"
      },
      "source": [
        "fd=open(\"records.json\",\"r\")\n",
        "fd.read()\n",
        "fd.close()\n",
        "j=json.dumps(js)"
      ],
      "execution_count": 46,
      "outputs": []
    },
    {
      "cell_type": "code",
      "metadata": {
        "id": "jaSyFjVenmPj"
      },
      "source": [
        "fd=open(\"records.json\",\"w\")\n",
        "record=fd.write(j)\n",
        "fd.close()"
      ],
      "execution_count": 47,
      "outputs": []
    },
    {
      "cell_type": "markdown",
      "metadata": {
        "id": "8rnSuEt89eBS"
      },
      "source": [
        "5)Sales json"
      ]
    },
    {
      "cell_type": "code",
      "metadata": {
        "colab": {
          "base_uri": "https://localhost:8080/"
        },
        "id": "iZPPRBxZ9Kpc",
        "outputId": "f8d0c3c5-cedd-4392-fac9-786960267d8f"
      },
      "source": [
        "{'prod':prod_ui,'qn':prod_qn,'amount':js[prod_ui]['price']*prod_qn}"
      ],
      "execution_count": 48,
      "outputs": [
        {
          "output_type": "execute_result",
          "data": {
            "text/plain": [
              "{'amount': 230, 'prod': '10003', 'qn': 5}"
            ]
          },
          "metadata": {},
          "execution_count": 48
        }
      ]
    },
    {
      "cell_type": "code",
      "metadata": {
        "id": "yNjVM16bAZ9E"
      },
      "source": [
        "sales={1:{'prod':prod_ui,'qn':prod_qn,'amount':js[prod_ui]['price']*prod_qn},}"
      ],
      "execution_count": 49,
      "outputs": []
    },
    {
      "cell_type": "code",
      "metadata": {
        "id": "nU73CP4QUPdf"
      },
      "source": [
        "sales[(len(sales)+1)]={'prod':prod_ui,'qn':prod_qn,'amount':js[prod_ui]['price']*prod_qn}"
      ],
      "execution_count": 50,
      "outputs": []
    },
    {
      "cell_type": "code",
      "metadata": {
        "colab": {
          "base_uri": "https://localhost:8080/"
        },
        "id": "SWZaMT7dVAEk",
        "outputId": "302d42ec-9567-4e8b-b3d5-1a96e15cf366"
      },
      "source": [
        "sales"
      ],
      "execution_count": 51,
      "outputs": [
        {
          "output_type": "execute_result",
          "data": {
            "text/plain": [
              "{1: {'amount': 230, 'prod': '10003', 'qn': 5},\n",
              " 2: {'amount': 230, 'prod': '10003', 'qn': 5}}"
            ]
          },
          "metadata": {},
          "execution_count": 51
        }
      ]
    },
    {
      "cell_type": "code",
      "metadata": {
        "id": "CIuPAggWApJ5"
      },
      "source": [
        "sale=json.dumps(sales)"
      ],
      "execution_count": 65,
      "outputs": []
    },
    {
      "cell_type": "code",
      "metadata": {
        "id": "yVbKnSESBCf4"
      },
      "source": [
        "fd=open(\"sale.json\",\"w\")\n",
        "wr=fd.write(sale)\n",
        "fd.close()"
      ],
      "execution_count": 67,
      "outputs": []
    },
    {
      "cell_type": "code",
      "metadata": {
        "colab": {
          "base_uri": "https://localhost:8080/",
          "height": 35
        },
        "id": "Ub68f0H4Bpfz",
        "outputId": "22101387-7c1b-4db3-ca8a-44297d2604f6"
      },
      "source": [
        "sale"
      ],
      "execution_count": 66,
      "outputs": [
        {
          "output_type": "execute_result",
          "data": {
            "application/vnd.google.colaboratory.intrinsic+json": {
              "type": "string"
            },
            "text/plain": [
              "'{\"1\": {\"prod\": \"10003\", \"qn\": 5, \"amount\": 230}, \"2\": {\"prod\": \"10003\", \"qn\": 5, \"amount\": 230}, \"prod\": \"10003\", \"qn\": 5, \"amount\": 230}'"
            ]
          },
          "metadata": {},
          "execution_count": 66
        }
      ]
    },
    {
      "cell_type": "markdown",
      "metadata": {
        "id": "sWeAPsh61ezu"
      },
      "source": [
        "Final inventory after sale"
      ]
    },
    {
      "cell_type": "code",
      "metadata": {
        "colab": {
          "base_uri": "https://localhost:8080/"
        },
        "id": "XhiiHFwI1dis",
        "outputId": "35273f21-d521-4bf8-be76-a583c1ebabcc"
      },
      "source": [
        "js"
      ],
      "execution_count": 69,
      "outputs": [
        {
          "output_type": "execute_result",
          "data": {
            "text/plain": [
              "{'10001': {'catagory': 'soft-drink',\n",
              "  'mfg_date': '4Sept,2021',\n",
              "  'name': 'Coca Cola',\n",
              "  'price': 65,\n",
              "  'quantity': 100,\n",
              "  'size': '1.25L',\n",
              "  'specifications': '-'},\n",
              " '10002': {'catagory': 'soft-drink',\n",
              "  'mfg_date': '1Sept,2021',\n",
              "  'name': 'Coca Cola(Big size)',\n",
              "  'price': 89,\n",
              "  'quantity': 100,\n",
              "  'size': '2.25L',\n",
              "  'specifications': '-'},\n",
              " '10003': {'catagory': 'drink',\n",
              "  'mfg_date': '5Sept,2021',\n",
              "  'name': 'Maza Mango Drink',\n",
              "  'price': 46,\n",
              "  'quantity': 92,\n",
              "  'size': '1.2L',\n",
              "  'specifications': '-'},\n",
              " '10004': {'catagory': 'ice-cream family pack',\n",
              "  'mfg_date': '5Sept,2021',\n",
              "  'name': 'Cadbury Chocolate Choc Layered Cakes',\n",
              "  'price': 60,\n",
              "  'quantity': 100,\n",
              "  'size': '126gram',\n",
              "  'specifications': '-'},\n",
              " '10005': {'catagory': 'chocolate-bar',\n",
              "  'mfg_date': '5Sept,2021',\n",
              "  'name': 'Cadbury Dark Milk Chocolate Bar',\n",
              "  'price': 338,\n",
              "  'quantity': 100,\n",
              "  'size': '156gram',\n",
              "  'specifications': '-'},\n",
              " '10006': {'catagory': 'Chocolate',\n",
              "  'mfg_date': '5Sept,2021',\n",
              "  'name': 'Cadbury Dairy Milk Small',\n",
              "  'price': 40,\n",
              "  'quantity': 100,\n",
              "  'size': '54gram',\n",
              "  'specifications': '-'},\n",
              " '10007': {'catagory': 'chocolate-bar',\n",
              "  'mfg_date': '4Sept,2021',\n",
              "  'name': 'Cadbury Dairy Milk Silk Mousse Chocolate Bar',\n",
              "  'price': 78,\n",
              "  'quantity': 100,\n",
              "  'size': '50gram',\n",
              "  'specifications': '-'},\n",
              " '10008': {'catagory': 'food',\n",
              "  'mfg_date': '2Sept,2021',\n",
              "  'name': \"Kellogg's Chocos\",\n",
              "  'price': 445,\n",
              "  'quantity': 100,\n",
              "  'size': '1.2kg',\n",
              "  'specifications': '-'},\n",
              " '10009': {'catagory': 'Biscuit',\n",
              "  'mfg_date': '5Sept,2021',\n",
              "  'name': 'Sunfeast Dark Fantacy Choco Fills',\n",
              "  'price': 36,\n",
              "  'quantity': 100,\n",
              "  'size': '75gram',\n",
              "  'specifications': '-'},\n",
              " '10010': {'catagory': 'phone',\n",
              "  'mfg_date': '3feb,2021',\n",
              "  'name': 'Samsung Galaxy M31',\n",
              "  'price': 15999,\n",
              "  'quantity': 75,\n",
              "  'size': 'Screen size-6.4Inches',\n",
              "  'specifications': 'Ocean Blue,6GB RAM ,128GB Storage'},\n",
              " '10011': {'catagory': 'phone',\n",
              "  'mfg_date': '4mar,2021',\n",
              "  'name': 'Mi 11X Pro 5G',\n",
              "  'price': 49999,\n",
              "  'quantity': 60,\n",
              "  'size': 'Screen size-6.67Inches',\n",
              "  'specifications': 'Cosmic Black,8GB RAM ,256GB Storage'},\n",
              " '10012': {'catagory': 'phone',\n",
              "  'mfg_date': '13mar,2021',\n",
              "  'name': 'Realme Norzo 30',\n",
              "  'price': 16999,\n",
              "  'quantity': 55,\n",
              "  'size': 'Screen size-6.5Inches',\n",
              "  'specifications': 'Racing Silver,6GB RAM, 128GB Storage'},\n",
              " '10013': {'catagory': 'phone',\n",
              "  'mfg_date': '16feb,2021',\n",
              "  'name': 'Oppo A74 5G',\n",
              "  'price': 20999,\n",
              "  'quantity': 10,\n",
              "  'size': 'Screen size-6.5Inches',\n",
              "  'specifications': 'Fantastic Purple,6GB RAM,128GB Storage'},\n",
              " '10014': {'catagory': 'laptop',\n",
              "  'mfg_date': '4mar,2021',\n",
              "  'name': 'Lenovo IdeaPad Gaming 3 Intel Core i5 10th Gen Full HD IPS Gaming Laptop(Onyx Black)',\n",
              "  'price': 59990,\n",
              "  'quantity': 15,\n",
              "  'size': '2.2kg',\n",
              "  'specifications': '8GB/1TB HDD/Windows 10/NVIDIA GTX 1650 4GB GDDR6 Graphics'},\n",
              " '10015': {'catagory': 'laptop',\n",
              "  'mfg_date': '18feb,2021',\n",
              "  'name': 'HP Pavillon Gaming 10th Gen Intel Core i5 Processor 15.6Inch FHD Gaming Laptop(Shadow Black)',\n",
              "  'price': 67990,\n",
              "  'quantity': 10,\n",
              "  'size': '2.23kg',\n",
              "  'specifications': '8GB/512GB SSD+32GB Intel Optane/Windows 10/NVIDIA 1650Ti 4GB'},\n",
              " '10016': {'catagory': 'laptop',\n",
              "  'mfg_date': '3mar,2021',\n",
              "  'name': 'HP Elitebook UltraSlim Hybrid Laptop 820G1 Intel Core i5 - 4200u Processor',\n",
              "  'price': 89990,\n",
              "  'quantity': 10,\n",
              "  'size': '1.5kg',\n",
              "  'specifications': '8 GB Ram, 1TB Harddisk & 256 GB ssd, Windows 10 Pro, 12.5 Inches Notebook'},\n",
              " '10017': {'catagory': 'laptop',\n",
              "  'mfg_date': '16feb,2021',\n",
              "  'name': 'LG Gram Ultra-Light 11th Gen Core i5',\n",
              "  'price': 74490,\n",
              "  'quantity': 40,\n",
              "  'size': '999gram',\n",
              "  'specifications': '8 GB RAM, 512 GB SSD, Win-10, Iris Xe Graphics, 14-inches, Thunderbolt 4, USC -C x 2 (with Power)'},\n",
              " '10018': {'catagory': 'biscuit',\n",
              "  'mfg_date': '18jan,2021',\n",
              "  'name': 'Hide and Seek(Cafe Mocha)',\n",
              "  'price': 30,\n",
              "  'quantity': 145,\n",
              "  'size': '120gram',\n",
              "  'specifications': 'fresh'},\n",
              " '10019': {'catagory': 'biscuit',\n",
              "  'mfg_date': '20jan,2021',\n",
              "  'name': 'Britannia Treat Jim Jam',\n",
              "  'price': 35,\n",
              "  'quantity': 60,\n",
              "  'size': '150gram',\n",
              "  'specifications': 'fresh'},\n",
              " '10020': {'catagory': 'food',\n",
              "  'mfg_date': '15mar,2021',\n",
              "  'name': 'Bourn Vita',\n",
              "  'price': 290,\n",
              "  'quantity': 50,\n",
              "  'size': '750gram',\n",
              "  'specifications': '-'},\n",
              " '10021': {'catagory': 'nutritiion drink',\n",
              "  'mfg_date': '26Aug,2021',\n",
              "  'name': 'Horlicks',\n",
              "  'price': 739,\n",
              "  'quantity': 40,\n",
              "  'size': '2kg',\n",
              "  'specifications': 'healthy and nutritious drink'},\n",
              " '10022': {'catagory': 'food',\n",
              "  'mfg_date': '3Sept,2021',\n",
              "  'name': 'Maggi',\n",
              "  'price': 160,\n",
              "  'quantity': 50,\n",
              "  'size': '70gram',\n",
              "  'specifications': 'masala instant noodles'},\n",
              " '10023': {'catagory': 'food',\n",
              "  'mfg_date': '1Sept,2021',\n",
              "  'name': 'Sunfeast Yippee',\n",
              "  'price': 86,\n",
              "  'quantity': 40,\n",
              "  'size': '280gram',\n",
              "  'specifications': 'whole wheat/instant noodle'},\n",
              " '10024': {'catagory': 'mango-drink',\n",
              "  'mfg_date': '3Sept,2021',\n",
              "  'name': 'Frooti-mango drink',\n",
              "  'price': 60,\n",
              "  'quantity': 10,\n",
              "  'size': '300ml',\n",
              "  'specifications': '-'},\n",
              " '10025': {'catagory': 'food',\n",
              "  'mfg_date': '1Sept,2021',\n",
              "  'name': 'Kissan Jam',\n",
              "  'price': 250,\n",
              "  'quantity': 30,\n",
              "  'size': '1kg',\n",
              "  'specifications': 'mixed fruit jam'},\n",
              " '10026': {'catagory': 'food',\n",
              "  'mfg_date': '4Sept,2021',\n",
              "  'name': 'Kurkure snacks',\n",
              "  'price': 20,\n",
              "  'quantity': 100,\n",
              "  'size': '90gram',\n",
              "  'specifications': '-'},\n",
              " '10027': {'catagory': 'food',\n",
              "  'mfg_date': '5Sept,2021',\n",
              "  'name': 'Pop-corn',\n",
              "  'price': 198,\n",
              "  'quantity': 40,\n",
              "  'size': '450gram',\n",
              "  'specifications': 'pack of 3'},\n",
              " '10028': {'catagory': 'food',\n",
              "  'mfg_date': '5Sept,2021',\n",
              "  'name': 'Dried Strowberry',\n",
              "  'price': 230,\n",
              "  'quantity': 10,\n",
              "  'size': '200gram',\n",
              "  'specifications': '-'},\n",
              " '10029': {'catagory': 'stationary-notebook',\n",
              "  'mfg_date': '14jan,2021',\n",
              "  'name': 'Classmate Spiral Notebook',\n",
              "  'price': 240,\n",
              "  'quantity': 200,\n",
              "  'size': '-',\n",
              "  'specifications': 'Single line, Spiral Binding, 240mm x 180mm, 200 Pages, Pack of 4, Multicolor '},\n",
              " '10030': {'catagory': 'stationary-notebook',\n",
              "  'mfg_date': '1Aug,2021',\n",
              "  'name': 'Classmate Long Notebook ',\n",
              "  'price': 175,\n",
              "  'quantity': 100,\n",
              "  'size': '-',\n",
              "  'specifications': 'Soft Cover, 120 Pages, 272x167mm, Single Line'},\n",
              " '10031': {'cat': 'stationary-pencil',\n",
              "  'mfg_date': '1jan,2021',\n",
              "  'name': 'Nataraj Pencil',\n",
              "  'pr': 10,\n",
              "  'qn': 50,\n",
              "  'size': '10gram',\n",
              "  'specification': 'extra dark'},\n",
              " '10032': {'cat': 'electronics',\n",
              "  'mfg_date': '5jan,2021',\n",
              "  'name': 'Mike',\n",
              "  'pr': 599,\n",
              "  'quantity': 145,\n",
              "  'size': '-',\n",
              "  'specification': 'wireless'},\n",
              " '10033': {'cat': 'food',\n",
              "  'mfg_date': '1sept,2021',\n",
              "  'name': 'Kurkure Namkeen',\n",
              "  'pr': 20,\n",
              "  'qn': 10,\n",
              "  'size': '95gram',\n",
              "  'specification': 'masala munch'},\n",
              " '10034': {'cat': 'electronics',\n",
              "  'mfg_date': '14july,2021',\n",
              "  'name': 'Wired Headphone',\n",
              "  'pr': 500,\n",
              "  'qn': 40,\n",
              "  'size': '-',\n",
              "  'specification': 'black ,red ,blue colour'},\n",
              " '10035': {'cat': 'electronics',\n",
              "  'mfg_date': '15jan,2021',\n",
              "  'name': 'Wireless Headphone',\n",
              "  'pr': 690,\n",
              "  'qn': 29,\n",
              "  'size': '-',\n",
              "  'specification': 'blue,black'}}"
            ]
          },
          "metadata": {},
          "execution_count": 69
        }
      ]
    }
  ]
}